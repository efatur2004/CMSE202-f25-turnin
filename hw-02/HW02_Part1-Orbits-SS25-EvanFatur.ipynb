{
 "cells": [
  {
   "cell_type": "markdown",
   "metadata": {},
   "source": [
    "# Homework Assignment 2 \n",
    "## Modeling planets' orbits\n",
    "\n",
    "### (Notebook 1 of 2)\n",
    "\n"
   ]
  },
  {
   "cell_type": "markdown",
   "metadata": {},
   "source": [
    "### <p style=\"text-align: right;\"> &#9989; Evan Fatur.</p>\n",
    "### <p style=\"text-align: right;\"> &#9989; efatur2004</p>"
   ]
  },
  {
   "cell_type": "markdown",
   "metadata": {},
   "source": [
    "\n",
    "<a id=\"toc\"></a>\n",
    "\n",
    "## Table of contents\n",
    "\n",
    "0. [Pre Assignment Survey](#ofhrs) (0 points + 1 git) \n",
    "\n",
    "1. [Planet orbits and migration](#part1) (14 points + 1 git)\n",
    "\n",
    "2. [Modeling planet migration](#part2) (33 points + 1 git)\n"
   ]
  },
  {
   "cell_type": "markdown",
   "metadata": {},
   "source": [
    "## Learning Goals\n",
    "\n",
    "By the end of this assignment, you should be able to:\n",
    "\n",
    "- Define planet migration types\n",
    "- Compare orbit shapes, based on the mass of the planet/the star, the radius of the orbit, and the eccentricity\n",
    "- Be able to find the orbital period from orbit properties\n",
    "- Be able to write methods and attributes of a class, based on the description of the final needed result\n",
    "- Be able to define agents using classes in Python and interactions between them using methods of Python classes.\n",
    "- Describe an agent-based model that accurately presents the properties of a planetary system.\n",
    "- Implement the evolution of the agent-based model by correctly applying the rules for the model and updating the state of the agents in the model.\n",
    "- Be able to identify needed forces and their effect on modeling planet migration.\n",
    "- Be able to visualize and describe the results of planetary migration simulation.\n",
    "\n",
    "\n",
    "Work through the following assignment, making sure to follow all of the directions and answer all of the questions.\n",
    "\n",
    "The assignment is split into two notebooks:\n",
    "- Notebook 1 of 2 is worth **14 + 33 + 3 = 51 points** \n",
    "- Notebook 2 of 2 is worth **1+ 42 + 1 = 44 points** \n",
    "for a total of **95 points**. Point values for each part are included in the section headers and question prompts.\n",
    "\n",
    "**This assignment is due at 11:59 pm on Friday, March 21st.** It should be uploaded into the \"Homework Assignments\" submission folder for Homework #2 on D2L.  Submission instructions can be found at the end of the notebook. **You must also fill out a survey regarding this assignment.** The link to this survey can also be found at the end of the notebook.\n",
    "\n"
   ]
  },
  {
   "cell_type": "markdown",
   "metadata": {},
   "source": [
    "---\n",
    "<a id=\"ofhrs\"></a>\n",
    "[Back to ToC](#toc)\n",
    "\n",
    "## Pre-assignment Survey\n",
    "\n",
    "Please fill out the pre-assignment survey [**here**](https://forms.office.com/r/qLEDb8Fhtr).\n"
   ]
  },
  {
   "cell_type": "code",
   "execution_count": 30,
   "metadata": {},
   "outputs": [],
   "source": [
    "import numpy as np\n",
    "import matplotlib.pyplot as plt"
   ]
  },
  {
   "cell_type": "markdown",
   "metadata": {},
   "source": [
    "---\n",
    "## &#128721; STOP\n",
    "**Pause to commit your changes to your Git repository! (1 points)**\n",
    "\n",
    "Create a ```hw-02``` folder in your ```cmse202-s25-turnin``` repo. Take a moment to save your notebook, add and commit the changes to your Git repository using the commit message \"**Initial commit of HW 2**\", no need to push the changes to GitHub yet, but you can if you want."
   ]
  },
  {
   "cell_type": "markdown",
   "metadata": {},
   "source": [
    "---\n",
    "<a id=part1></a>\n",
    "[Back to ToC](#toc)\n",
    "\n",
    "## Part 1: Planet orbits and migration types (14 Points)\n",
    "\n",
    "✅ **Do this:** Watch these 2 videos and answer the questions below.\n",
    "\n",
    "- [Orbit types](https://www.youtube.com/watch?v=pRvVK2m_wGE)\n",
    "- [Planetary Migration in a Disk](https://www.youtube.com/watch?v=BGPBNeTFXZk) -\n",
    "\n"
   ]
  },
  {
   "cell_type": "code",
   "execution_count": 1,
   "metadata": {},
   "outputs": [
    {
     "data": {
      "image/jpeg": "[encoded data removed]",
      "text/html": [
       "\n",
       "        <iframe\n",
       "            width=\"800\"\n",
       "            height=\"400\"\n",
       "            src=\"https://www.youtube.com/embed/pRvVK2m_wGE\"\n",
       "            frameborder=\"0\"\n",
       "            allowfullscreen\n",
       "            \n",
       "        ></iframe>\n",
       "        "
      ],
      "text/plain": [
       "<IPython.lib.display.YouTubeVideo at 0x27a0c82be00>"
      ]
     },
     "execution_count": 1,
     "metadata": {},
     "output_type": "execute_result"
    }
   ],
   "source": [
    "from IPython.display import YouTubeVideo\n",
    "\n",
    "YouTubeVideo('pRvVK2m_wGE', width=800, height=400)"
   ]
  },
  {
   "cell_type": "code",
   "execution_count": null,
   "metadata": {},
   "outputs": [],
   "source": [
    "YouTubeVideo('BGPBNeTFXZk', width=800, height=400, end=260)"
   ]
  },
  {
   "cell_type": "markdown",
   "metadata": {},
   "source": [
    "✅ **Question 1.1 (1 point):** What shape is Earth's orbit?"
   ]
  },
  {
   "cell_type": "markdown",
   "metadata": {},
   "source": [
    "✎The shape of Earth's orbit is an oval instead of being a perfect circle."
   ]
  },
  {
   "cell_type": "markdown",
   "metadata": {},
   "source": [
    "✅ **Question 1.2 (3 points):** How many types of orbit shapes did the 1st video mention? Which shape is more common for satellites and planets in our Solar system?"
   ]
  },
  {
   "cell_type": "markdown",
   "metadata": {},
   "source": [
    "✎ The common version of orbit that satellites use is elliptical. The first video mentioned four different orbits: circular, elliptical, parabolic, and hyperbolic."
   ]
  },
  {
   "cell_type": "markdown",
   "metadata": {},
   "source": [
    "✅ **Question 1.3 (1 point):** How many types of migration did the 2nd video mention?"
   ]
  },
  {
   "cell_type": "markdown",
   "metadata": {},
   "source": [
    "✎ The second video mentioned three different migrations: type 1, type 2, and type 3"
   ]
  },
  {
   "cell_type": "markdown",
   "metadata": {},
   "source": [
    "✅ **Question 1.4 (2 points):** We see hot Jupiters (planets the size of Jupiter but hot!) in orbits very, very close to their stars. Because of the temperature in these regions, there is no way that planets the size of Jupiter (300 times Earth's mass and 11 times Earth's radius) could form because the star would just steal all the gas and not let the planet to form. But we still see hot Jupiters in those orbits. How do they end up near their stars?"
   ]
  },
  {
   "cell_type": "markdown",
   "metadata": {},
   "source": [
    "✎ They ended up near the stars due to disk migration due to hot jupiters forming where the temperature is cooler which makes the planet's orbit shrink."
   ]
  },
  {
   "cell_type": "markdown",
   "metadata": {},
   "source": [
    "## Orbital period\n",
    "\n",
    "An important parameter for a planet orbiting a star is its orbital period. This is the time it takes for the planet to travel 1 whole orbit. For example, for the Earth the orbital period is 1 year. Using any Large Language Model(LLM), identify how you can find the orbital period from radius/semi-major axis of the orbit. Make sure to ask follow up questions to make sure you get an ***equation*** for orbital period T and radius a (or r). **Use 2 different prompts** and copy and paste both answers in the 2 cells below. Make sure to include a screenshot of the equation you get."
   ]
  },
  {
   "cell_type": "markdown",
   "metadata": {},
   "source": [
    "**Prompt 1:** How is Kepler's third law used to find orbital period of a planet with the semi-major axis of its orbit?\n",
    "\n",
    "**Answer 1:** Kepler's third law says T2 is proportional to the semi-major axis cubed. "
   ]
  },
  {
   "cell_type": "markdown",
   "metadata": {},
   "source": [
    "**Prompt 2:** Create an equation for the orbital period of a planet based on the semi-major axis, gravitational constant, and the mass of the star.\n",
    "\n",
    "**Answer 2:** Newton's third law says the gravitational constant and the mass of the star have a strong relationship. (T=2 x pi x sqrt(a^3/gM))"
   ]
  },
  {
   "cell_type": "markdown",
   "metadata": {},
   "source": [
    "✅ **Question 1.5 (2 points):** Which prompt got you the answer with the equation? Why do you think one prompt was better to use than the other?"
   ]
  },
  {
   "cell_type": "markdown",
   "metadata": {},
   "source": [
    "✎ Prompt 2 got me the answer with the equation. I believe this is better to use because it has to do more with planet systems and this has to do with Newton's version of Kepler's third law."
   ]
  },
  {
   "cell_type": "markdown",
   "metadata": {},
   "source": [
    "The equation that you found is called **Kepler's third law**. Using google or any other search engine, try to find the same equation and verify that GenAI gave you the correct answer."
   ]
  },
  {
   "cell_type": "markdown",
   "metadata": {},
   "source": [
    "✅ **Task 1.6 (1 point):** Place a screenshot of the same equation from a reliable source below. Include a reference to that source."
   ]
  },
  {
   "attachments": {
    "9860f6a2-00a3-4575-9616-52ef4b12272e.png": {
     "image/png": "[encoded data removed]"
    }
   },
   "cell_type": "markdown",
   "metadata": {},
   "source": [
    "✎ ![image.png](attachment:9860f6a2-00a3-4575-9616-52ef4b12272e.png) "
   ]
  },
  {
   "cell_type": "markdown",
   "metadata": {},
   "source": [
    "*https://www.space.com/keplers-third-law*"
   ]
  },
  {
   "cell_type": "markdown",
   "metadata": {},
   "source": [
    "✅ **Question 1.7 (2 points):** Using the equation you found in the previous step answer the following question. Planet 1's orbital radius is 4 times bigger than Planet 2's orbital radius. They are orbiting the same star. Which planet's orbital period will be greater? Explain your reasoning."
   ]
  },
  {
   "cell_type": "markdown",
   "metadata": {},
   "source": [
    "✎ Based on Kepler's third law, planet one's orbital period is 8 times greater than planet 2's orbital period because the orbital period is dependent on orbital radius cubed."
   ]
  },
  {
   "cell_type": "markdown",
   "metadata": {},
   "source": [
    "## Classes\n",
    "\n",
    "\n",
    "\n",
    "In Keppler's third law, there is a constant called the gravitation constant and it has the value $G = 6.67 \\times 10^{-11} \\frac{N m^2}{{kg}^2}$. Because this number is constant it means that conceptually its value makes no difference in the effects gravity has. That is why we will set the value of this constant to 1.\n",
    "\n",
    "\n",
    "\n",
    "\n",
    "\n",
    "✅ **Do this 1.8 (2 points):** Using the information you found in the previous part, change the class below to calculate the orbital period in the corresponding method of the `Planet` class.\n",
    "Make sure to run the cell under the class to make sure your code works correctly. You will get approximately 99.34 as your orbital period if your code is written correctly."
   ]
  },
  {
   "cell_type": "code",
   "execution_count": 66,
   "metadata": {},
   "outputs": [],
   "source": [
    "class Planet:\n",
    "    \"\"\"\n",
    "    A class representing a planet orbiting a star.\n",
    "\n",
    "    Attributes:\n",
    "        mass (float): The mass of the planet.\n",
    "        orbital_radius (float): The distance of the planet from its star.\n",
    "        star_mass (float): The mass of the star the planet orbits.\n",
    "    \"\"\"\n",
    "    def __init__(self, mass, orbital_radius, star_mass):\n",
    "        \"\"\"\n",
    "        Initialize a Planet instance with mass, orbital radius, and the mass of its star.\n",
    "        \"\"\"\n",
    "        self.mass = mass\n",
    "        self.orbital_radius = orbital_radius\n",
    "        self.star_mass = star_mass\n",
    "        \n",
    "    def get_orbital_period(self):\n",
    "        \"\"\"\n",
    "        Calculate and return the orbital period of the planet.\n",
    "        \"\"\"\n",
    "        orbital_period_squared = (self.orbital_radius ** 3) / self.star_mass\n",
    "        orbital_period = orbital_period_squared ** 0.5\n",
    "\n",
    "        return orbital_period * 6.27  "
   ]
  },
  {
   "cell_type": "code",
   "execution_count": 68,
   "metadata": {},
   "outputs": [
    {
     "data": {
      "text/plain": [
       "99.13740464627868"
      ]
     },
     "execution_count": 68,
     "metadata": {},
     "output_type": "execute_result"
    }
   ],
   "source": [
    "#test your code by running this cell\n",
    "planet = Planet(2, 100, 4000)\n",
    "planet.get_orbital_period()"
   ]
  },
  {
   "cell_type": "markdown",
   "metadata": {},
   "source": [
    "---\n",
    "## &#128721; STOP\n",
    "**Pause to commit your changes to your Git repository! (1 points)**\n",
    "\n",
    "Take a moment to save your notebook, commit the changes to your Git repository using the commit message \"**Committing Part 1**\", no need to push the changes to GitHub yet, but you can if you want."
   ]
  },
  {
   "cell_type": "markdown",
   "metadata": {},
   "source": [
    "---\n",
    "\n",
    "<a id=part2></a>\n",
    "[Back to ToC](#toc)\n",
    "\n",
    "## Part 2. Modeling planet migration using Agent Based Modeling (33 points)\n",
    "\n",
    "### Dimensions\n",
    "\n",
    "We are going to try modeling planet interaction with surrounding material using Agent Based Modeling (ABM). For the sake of this assignment, we will keep our model simple. We will assume several things:\n",
    "\n",
    "- All orbits are circular.\n",
    "- Interactions can only change the radius of the orbit, but NOT the shape!\n",
    "- Only forces acting towards the center or outwards from the center *radially* matter! (The vertical force $F_r$ in the sketch below)\n",
    "\n",
    "These assumptions let us look at our system as 2 dimensional BUT only care about *radial* forces, aka forces acting along the radius of the orbit.\n"
   ]
  },
  {
   "cell_type": "markdown",
   "metadata": {},
   "source": [
    "![image](https://www.ux1.eiu.edu/~cfadd/1350/06CirMtn/Images/NetForce.jpg)"
   ]
  },
  {
   "cell_type": "markdown",
   "metadata": {},
   "source": [
    "✅ **Do this 2.1: (1 points)** For the pictures below write down the dimensions of the system."
   ]
  },
  {
   "cell_type": "markdown",
   "metadata": {},
   "source": [
    "**Picture 1**"
   ]
  },
  {
   "cell_type": "code",
   "execution_count": 3,
   "metadata": {},
   "outputs": [
    {
     "data": {
      "text/html": [
       "<img src=\"https://raw.githubusercontent.com/sonachitchyan/abm_images/main/system1.png\" width=\"600\" height=\"300\"/>"
      ],
      "text/plain": [
       "<IPython.core.display.Image object>"
      ]
     },
     "execution_count": 3,
     "metadata": {},
     "output_type": "execute_result"
    }
   ],
   "source": [
    "from IPython.display import Image \n",
    "  \n",
    "# get the image \n",
    "Image(url=\"https://raw.githubusercontent.com/sonachitchyan/abm_images/main/system1.png\", width=600, height=300) "
   ]
  },
  {
   "cell_type": "markdown",
   "metadata": {},
   "source": [
    "✎ The dimensions of this system are -1.5 to 1.5 on the x-axis and -0.25 to 0.25 on the y-axis"
   ]
  },
  {
   "cell_type": "markdown",
   "metadata": {},
   "source": [
    "**Picture 2**"
   ]
  },
  {
   "cell_type": "code",
   "execution_count": 13,
   "metadata": {},
   "outputs": [
    {
     "data": {
      "text/html": [
       "<img src=\"https://raw.githubusercontent.com/sonachitchyan/abm_images/main/system2.png\"/>"
      ],
      "text/plain": [
       "<IPython.core.display.Image object>"
      ]
     },
     "execution_count": 13,
     "metadata": {},
     "output_type": "execute_result"
    }
   ],
   "source": [
    "from IPython.display import Image \n",
    "  \n",
    "# get the image \n",
    "Image(url=\"https://raw.githubusercontent.com/sonachitchyan/abm_images/main/system2.png\") "
   ]
  },
  {
   "cell_type": "markdown",
   "metadata": {},
   "source": [
    "✎ The dimensions of this system are -3 to 1 on the x-axis and -1 to 1.5 on the y-axis."
   ]
  },
  {
   "cell_type": "markdown",
   "metadata": {},
   "source": [
    "### Model Set-up"
   ]
  },
  {
   "cell_type": "markdown",
   "metadata": {},
   "source": [
    "✅ **Question 2.2 (1 points):** What are the agents of the model in this case?\n"
   ]
  },
  {
   "cell_type": "markdown",
   "metadata": {},
   "source": [
    "✎ The agents of the model in this case are the planets and the material around them."
   ]
  },
  {
   "cell_type": "markdown",
   "metadata": {},
   "source": [
    "✅ **Question 2.3 (2 points):** How many different classes do we need to model this system? Take into account the agents and the system that we need to run the simulation."
   ]
  },
  {
   "cell_type": "markdown",
   "metadata": {},
   "source": [
    "✎ We need three different classes to model this system: planet class, material class, and system class. "
   ]
  },
  {
   "cell_type": "markdown",
   "metadata": {},
   "source": [
    "## Modeling a system of 2 planets around a star"
   ]
  },
  {
   "cell_type": "markdown",
   "metadata": {},
   "source": [
    "If we have a system of 2 planets orbiting a star, these planets interact with each other gravitationally. This force is proportional to the planets' masses (bigger mass -> stronger force/interaction) and inversely proportional to the distance between the planets (bigger distance -> weaker force/interaction). If this force is substantial, it can move the planets from their initial orbits, even make them collide in extreme cases! To make sense of how this happens, we can start from a simplified model of 2 planets orbiting the same star. In this part you will create and run that model, plot how the radius from the host star changes for each planet."
   ]
  },
  {
   "cell_type": "markdown",
   "metadata": {},
   "source": [
    "✅ **Question 2.4 (4 points):** Add docstrings to the methods below. You should include a description of what the method does, a description of parameters and and what the method returns."
   ]
  },
  {
   "cell_type": "code",
   "execution_count": 10,
   "metadata": {},
   "outputs": [],
   "source": [
    "def calculate_forces(planet1, planet2):\n",
    "    \"\"\"\n",
    "    Calculate the radial force exerted by planet2 on planet1 due to gravitational interaction.\n",
    "\n",
    "    Parameters:\n",
    "        planet1: An object representing the first planet. Should have mass, the x and y coordinates of the planet, and the distance from the star.\n",
    "        planet2: An object representing the second planet. Should have mass and the x and y coordinates of the planet.\n",
    "\n",
    "    The float returns the radial force exerted on planet1 by planet2.\n",
    "    \"\"\"\n",
    "    force_x = planet2.mass * planet1.mass * (planet2.x - planet1.x) / ((planet2.x - planet1.x)**2 + (planet2.y - planet1.y)**2)**(1.5)\n",
    "    force_y = planet2.mass * planet1.mass * (planet2.y - planet1.y) / ((planet2.x - planet1.x)**2 + (planet2.y - planet1.y)**2)**(1.5)\n",
    "    force_radial = force_x * planet1.x / planet1.radius + force_y * planet1.y / planet1.radius\n",
    "    return force_radial\n",
    "\n",
    "\n",
    "def take_step(planet, force, delta_time):\n",
    "    \"\"\"\n",
    "    Update the position, velocity, and orbital radius of a planet over a time step.\n",
    "\n",
    "    Parameters:\n",
    "        planet: An object representing the planet. Should have mass, radius, x and y coordinates, the orbital period, and the mass of the star.\n",
    "        The float represents the radial force acting on the planet\n",
    "\n",
    "    Returns the attributes of the planet directly.\n",
    "    \"\"\"\n",
    "    acceleration = force / planet.mass\n",
    "    radius_change = 0.5 * acceleration * delta_time**2 + planet.velocity_radial * delta_time\n",
    "    velocity_change = acceleration * delta_time\n",
    "    planet.radius = planet.radius + radius_change\n",
    "    planet.x = planet.radius * np.cos(2 * np.pi * delta_time / planet.orbital_period)\n",
    "    planet.y = planet.radius * np.sin(2 * np.pi * delta_time / planet.orbital_period)\n",
    "    planet.velocity_radial = planet.velocity_radial + velocity_change\n",
    "\n",
    "    if planet.radius < 0.001:\n",
    "        planet.radius = 0\n",
    "        planet.status = \"Terminated\"\n",
    "\n",
    "    planet.orbital_period = 2 * np.pi * np.sqrt(planet.radius**3 / planet.star_mass)"
   ]
  },
  {
   "cell_type": "markdown",
   "metadata": {},
   "source": [
    "✅ **Question 2.5 (3 points):** Describe what the code provided above does. What interaction does it describe? Explain both methods separately."
   ]
  },
  {
   "cell_type": "markdown",
   "metadata": {},
   "source": [
    "✎ The code above describes the simulation of planetary motion and focuses on how two planets' gravitational forces affect their orbits."
   ]
  },
  {
   "cell_type": "markdown",
   "metadata": {},
   "source": [
    "✅ **Question 2.6 (3 points):** Turn the following pseudo-code into code:"
   ]
  },
  {
   "cell_type": "markdown",
   "metadata": {},
   "source": [
    "```{python, tidy=FALSE, eval=FALSE, highlight=FALSE }\n",
    "Class: Planet\n",
    "    - Represents a planet orbiting a star.\n",
    "\n",
    "  Attributes:\n",
    "      - mass (float): Set to the mass of the planet.\n",
    "      - radius (float): Set to the initial orbital radius of the planet.\n",
    "      - star_mass (float): Set to the mass of the star the planet orbits.\n",
    "      - orbital_period (float): Compute using Kepler’s third law: \n",
    "        orbital_period = 2 * pi * sqrt(radius^3 / star_mass).\n",
    "      - velocity_radial (float): Initialize to 0.0.\n",
    "      - x (float): Set to radius (initial x-coordinate of the planet).\n",
    "      - y (float): Set to 0 (initial y-coordinate of the planet).\n",
    "      - status (string): Defaults to \"Active\". Changes to \"Terminated\" if the planet falls into the star \n",
    "        (radius < sqrt(0.02)).\n",
    "  Methods:\n",
    "      - __init__: \n",
    "        Assigns the default values to the attributes\n",
    "```\n"
   ]
  },
  {
   "cell_type": "markdown",
   "metadata": {},
   "source": [
    "```{r, tidy=FALSE, eval=FALSE, highlight=FALSE }\n",
    "Class: System\n",
    "    Represents a planetary system with a central star and two orbiting planets.\n",
    "\n",
    "Attributes:\n",
    "    - star_mass (float): Set to the mass of the central star.\n",
    "    - planet1 (Planet): Set to the first planet in the system.\n",
    "    - planet2 (Planet): Set to the second planet in the system.\n",
    "    - planet1_pos (list): Initialize as a list of lists with first element [0.0, planet1.radius], tracking planet1's position.\n",
    "    - planet2_pos (list): Initialize as a list of lists with first element [0.0, planet2.radius], tracking planet2's position.\n",
    "\n",
    "Methods:\n",
    "    - __init__:\n",
    "        Assigns the default values to the attributes.\n",
    "    - evolve(time):\n",
    "        Simulate the evolution of the system over a given time.\n",
    "        - Initialize:\n",
    "            - t (float): Set to 0.0.\n",
    "            - delta_time (float): Set to planet1.orbital_period / 5.\n",
    "        - While t < time:\n",
    "            - Initialize:\n",
    "                - total_force_planet1 (float): Set to 0.0.\n",
    "                - total_force_planet2 (float): Set to 0.0.\n",
    "            - If both planets are \"Active\" and their squared distance >= 0.02:\n",
    "                - Compute total_force_planet1 using calculate_forces(planet1, planet2).\n",
    "                - Compute total_force_planet2 using calculate_forces(planet2, planet1).\n",
    "                - Update planet1 position using take_step(planet1, total_force_planet1, delta_time).\n",
    "                - Update planet2 position using take_step(planet2, total_force_planet2, delta_time).\n",
    "            - Increment t by delta_time.\n",
    "            - Append [t, planet1.radius] to planet1_pos.\n",
    "            - Append [t, planet2.radius] to planet2_pos.\n",
    "            - If either planet’s status is \"Terminated\", break the loop.\n",
    "```"
   ]
  },
  {
   "cell_type": "code",
   "execution_count": 15,
   "metadata": {},
   "outputs": [],
   "source": [
    "# your code here\n",
    "import numpy as np\n",
    "\n",
    "class Planet:\n",
    "    def __init__(self, mass, radius, star_mass):\n",
    "        \n",
    "        self.mass = mass\n",
    "        self.radius = radius\n",
    "        self.star_mass = star_mass\n",
    "        self.orbital_period = 2 * np.pi * np.sqrt(radius**3 / star_mass)  \n",
    "        self.velocity_radial = 0.0\n",
    "        self.x = radius  \n",
    "        self.y = 0.0     \n",
    "        self.status = \"Active\"\n",
    "\n",
    "class System:\n",
    "    def __init__(self, star_mass, planet1, planet2):\n",
    "        self.star_mass = star_mass\n",
    "        self.planet1 = planet1\n",
    "        self.planet2 = planet2\n",
    "        self.planet1_pos = [[0.0, planet1.radius]]  \n",
    "        self.planet2_pos = [[0.0, planet2.radius]]  \n",
    "\n",
    "    def evolve(self, time):\n",
    "        t = 0.0\n",
    "        delta_time = self.planet1.orbital_period / 5  \n",
    "\n",
    "        while t < time:\n",
    "            total_force_planet1 = 0.0\n",
    "            total_force_planet2 = 0.0\n",
    "\n",
    "            distance_squared = (self.planet1.x - self.planet2.x)**2 + (self.planet1.y - self.planet2.y)**2\n",
    "            if self.planet1.status == \"Active\" and self.planet2.status == \"Active\" and distance_squared >= 0.02:\n",
    "                total_force_planet1 = calculate_forces(self.planet1, self.planet2)\n",
    "                total_force_planet2 = calculate_forces(self.planet2, self.planet1)\n",
    "\n",
    "                take_step(self.planet1, total_force_planet1, delta_time)\n",
    "                take_step(self.planet2, total_force_planet2, delta_time)\n",
    "\n",
    "            t += delta_time \n",
    "\n",
    "            self.planet1_pos.append([t, self.planet1.radius])\n",
    "            self.planet2_pos.append([t, self.planet2.radius])\n",
    "\n",
    "            if self.planet1.status == \"Terminated\" or self.planet2.status == \"Terminated\":\n",
    "                break"
   ]
  },
  {
   "cell_type": "markdown",
   "metadata": {},
   "source": [
    "✅ **Do this:** Explain what the code above does."
   ]
  },
  {
   "cell_type": "markdown",
   "metadata": {},
   "source": [
    "✎ The code above models planets based on two classes: planet and system. This code models gravitational interactions between planets and records their orbit over time."
   ]
  },
  {
   "cell_type": "markdown",
   "metadata": {},
   "source": [
    "✅ **Do this:** After defining the `System` class, complete and run the following cell."
   ]
  },
  {
   "cell_type": "code",
   "execution_count": 20,
   "metadata": {},
   "outputs": [],
   "source": [
    "pl1 = Planet(1, 10, 400) # planet with mass 1, radius 10 and star mass 400\n",
    "pl2 = Planet(1, 20, 400) # planet with mass 1, radius 20 and star mass 400\n",
    "system = System(400, pl1, pl2) # fill in the needed arguments\n",
    "system.evolve(2000)"
   ]
  },
  {
   "cell_type": "markdown",
   "metadata": {},
   "source": [
    "### Visualization\n",
    "\n",
    "✅ **Question 2.7 (1 point):**  Now, taking the saved positions of our planets, we can track how their orbital radius changes with time. To do that, make a scatter plot of orbital radius vs time for both planets using the attributes of the `system` object. Use different colors and label the lines with \"Planet 1\" and \"Planet 2\". You can use GenAI for this part but don't forget to add a reference to your answer."
   ]
  },
  {
   "cell_type": "code",
   "execution_count": 24,
   "metadata": {},
   "outputs": [
    {
     "data": {
      "image/png": "[encoded data removed]",
      "text/plain": [
       "<Figure size 1000x600 with 1 Axes>"
      ]
     },
     "metadata": {},
     "output_type": "display_data"
    }
   ],
   "source": [
    "import matplotlib.pyplot as plt\n",
    "\n",
    "planet1_time = [pos[0] for pos in system.planet1_pos]\n",
    "planet1_radius = [pos[1] for pos in system.planet1_pos]\n",
    "\n",
    "planet2_time = [pos[0] for pos in system.planet2_pos]\n",
    "planet2_radius = [pos[1] for pos in system.planet2_pos]\n",
    "\n",
    "plt.figure(figsize=(10, 6))\n",
    "plt.scatter(planet1_time, planet1_radius, color='blue', label='Planet 1', alpha=0.6)\n",
    "plt.scatter(planet2_time, planet2_radius, color='orange', label='Planet 2', alpha=0.6)\n",
    "\n",
    "plt.xlabel('Time (arbitrary units)')\n",
    "plt.ylabel('Orbital Radius')\n",
    "plt.title('Orbital Radius vs Time for Planet 1 and Planet 2')\n",
    "plt.legend()\n",
    "plt.grid(True)\n",
    "\n",
    "plt.show()"
   ]
  },
  {
   "cell_type": "markdown",
   "metadata": {},
   "source": [
    "✅ **Question 2.8 (4 points):** Using the plot you made, describe what is happening with the two planets. Is this what you expected to happen?"
   ]
  },
  {
   "cell_type": "markdown",
   "metadata": {},
   "source": [
    "✎ This plot shows us planet 1 has fallen into the star and that orbital migration happened when the two planets met at (50,13)"
   ]
  },
  {
   "cell_type": "markdown",
   "metadata": {},
   "source": [
    "### Modeling a system of 1 big planet and N small planets around a star"
   ]
  },
  {
   "cell_type": "markdown",
   "metadata": {},
   "source": [
    "Now let's extend our model for a system of 1 big planet (by big we mean Jupiter size planet) and a bunch of small planets around it, which will be an approximation for the disk.\n",
    "\n",
    "Here we will provide the generalized code that runs for a set number of planets.\n"
   ]
  },
  {
   "cell_type": "code",
   "execution_count": 28,
   "metadata": {},
   "outputs": [],
   "source": [
    "\n",
    "class System:\n",
    "    def __init__(self, star_mass, planet_list):\n",
    "        # the primaty planet we care about is the first planet in the list\n",
    "        self.star_mass = star_mass\n",
    "        \n",
    "        self.planet_list = planet_list\n",
    "        \n",
    "        self.number_of_planets = len(planet_list)\n",
    "        \n",
    "        self.plot_positions = [[0.0, planet_list[0].radius]]\n",
    "    \n",
    "    def evolve(self, time):\n",
    "        t = 0.0\n",
    "        delta_time = self.planet_list[0].orbital_period/5\n",
    "        while t < time:\n",
    "            # delta_t = self.planet_list[0].orbital_period/5 ## this is the step that chooses the resolution of our simulation\n",
    "            total_force_list = np.zeros(self.number_of_planets)\n",
    "            for i, planet in enumerate(self.planet_list):\n",
    "                if planet.status == \"Active\":\n",
    "                    total_force_radial = 0.0\n",
    "                    for other_planet in self.planet_list:\n",
    "                        if other_planet.status == \"Active\":\n",
    "                            if other_planet != planet and (other_planet.x - planet.x)**2 + (other_planet.y - planet.y)**2 >= 0.02:\n",
    "                                total_force_radial += calculate_forces(planet, other_planet)\n",
    "                    total_force_list[i] = total_force_radial\n",
    "\n",
    "            for i, planet in enumerate(self.planet_list):\n",
    "                if planet.status == \"Active\":\n",
    "                    take_step(planet, total_force_list[i], delta_time)\n",
    "\n",
    "            \n",
    "            for planet in self.planet_list:\n",
    "                if planet.radius < 0.02:\n",
    "                    planet.status == \"Terminated\"\n",
    "            if self.planet_list[0].status == \"Terminated\":\n",
    "                break\n",
    "            t += delta_time\n",
    "            self.plot_positions.append([t, self.planet_list[0].radius])\n",
    "            "
   ]
  },
  {
   "cell_type": "markdown",
   "metadata": {},
   "source": [
    "✅ **Question 2.9 (4 points):** How is the code above different from what you wrote for a 2 planet system?"
   ]
  },
  {
   "cell_type": "markdown",
   "metadata": {},
   "source": [
    "✎ This code is different from the 2 planet system because in this code it uses a list of planets instead of 2 planets. Another difference is in the 2 planet system we are comparing the two planets while this code compares the sum of forces"
   ]
  },
  {
   "cell_type": "markdown",
   "metadata": {},
   "source": [
    "✅ **Question 2.10 (3 points):** Run a simulation for a system of 51 planets orbiting a star with mass 400. The first planet of the list is the *primary* planet with mass 150 at radius 1, and the rest of the planets each have a mass of 0.1 and are evenly placed between 0.01 and 0.7 radii. Run the simulation for time of 10."
   ]
  },
  {
   "cell_type": "code",
   "execution_count": 29,
   "metadata": {},
   "outputs": [],
   "source": [
    "#your code here"
   ]
  },
  {
   "cell_type": "markdown",
   "metadata": {},
   "source": [
    "### Visualization"
   ]
  },
  {
   "cell_type": "markdown",
   "metadata": {},
   "source": [
    "✅ **Question 2.11 (1 point):** Make the same visualization for radius vs time for the big planet. You can use GenAI for this part but don't forget to add a reference to your answer."
   ]
  },
  {
   "cell_type": "code",
   "execution_count": 34,
   "metadata": {},
   "outputs": [
    {
     "data": {
      "image/png": "[encoded data removed]",
      "text/plain": [
       "<Figure size 1000x600 with 1 Axes>"
      ]
     },
     "metadata": {},
     "output_type": "display_data"
    }
   ],
   "source": [
    "primary_planet = Planet(mass=150, radius=1, star_mass=400)\n",
    "\n",
    "small_planets = [Planet(mass=0.1, radius=r, star_mass=400) for r in np.linspace(0.01, 0.7, 50)]\n",
    "\n",
    "planet_list = [primary_planet] + small_planets\n",
    "class System:\n",
    "    def __init__(self, star_mass, planet_list):\n",
    "        self.star_mass = star_mass\n",
    "        self.planet_list = planet_list\n",
    "        self.number_of_planets = len(planet_list)\n",
    "        self.plot_positions = [[0.0, planet_list[0].radius]]\n",
    "\n",
    "    def evolve(self, time):\n",
    "        t = 0.0\n",
    "        delta_time = self.planet_list[0].orbital_period / 5\n",
    "\n",
    "        while t < time:\n",
    "            total_force_list = np.zeros(self.number_of_planets)\n",
    "            for i, planet in enumerate(self.planet_list):\n",
    "                if planet.status == \"Active\":\n",
    "                    total_force_radial = 0.0\n",
    "                    for other_planet in self.planet_list:\n",
    "                        if other_planet.status == \"Active\":\n",
    "                            if other_planet != planet and (other_planet.x - planet.x)**2 + (other_planet.y - planet.y)**2 >= 0.02:\n",
    "                                total_force_radial += calculate_forces(planet, other_planet)\n",
    "                    total_force_list[i] = total_force_radial\n",
    "\n",
    "            for i, planet in enumerate(self.planet_list):\n",
    "                if planet.status == \"Active\":\n",
    "                    take_step(planet, total_force_list[i], delta_time)\n",
    "\n",
    "            for planet in self.planet_list:\n",
    "                if planet.radius < 0.02:\n",
    "                    planet.status = \"Terminated\"\n",
    "\n",
    "            if self.planet_list[0].status == \"Terminated\":\n",
    "                break\n",
    "\n",
    "            t += delta_time\n",
    "            self.plot_positions.append([t, self.planet_list[0].radius])\n",
    "system = System(star_mass=400, planet_list=planet_list)\n",
    "\n",
    "system.evolve(time=10)\n",
    "\n",
    "time_values = [pos[0] for pos in system.plot_positions]\n",
    "radius_values = [pos[1] for pos in system.plot_positions]\n",
    "\n",
    "plt.figure(figsize=(10, 6))\n",
    "plt.scatter(time_values, radius_values, color='blue', label='Primary Planet', alpha=0.6)\n",
    "\n",
    "plt.xlabel('Time (arbitrary units)')\n",
    "plt.ylabel('Orbital Radius (Primary Planet)')\n",
    "plt.title('Orbital Radius vs Time for the Primary Planet in a System of 51 Planets')\n",
    "plt.legend()\n",
    "plt.grid(True)\n",
    "\n",
    "plt.show()"
   ]
  },
  {
   "cell_type": "markdown",
   "metadata": {},
   "source": [
    "✅ **Question 2.12 (2 points):** Describe what is happening to the planets' orbits based on the plot you made."
   ]
  },
  {
   "cell_type": "markdown",
   "metadata": {},
   "source": [
    "✎ The planets' orbits are slowly decreasing in orbital radius as time goes on."
   ]
  },
  {
   "cell_type": "markdown",
   "metadata": {},
   "source": [
    "✅ **Question 2.13 (4 points):** Was this what you expected to see based on the concept of planetary migration? Explain why."
   ]
  },
  {
   "cell_type": "markdown",
   "metadata": {},
   "source": [
    "✎ I think this is correct, as the radius usually does decrease in the concept of planetary migration due to the planets losing momentum causing inward movement."
   ]
  },
  {
   "cell_type": "markdown",
   "metadata": {},
   "source": [
    "---\n",
    "## &#128721; STOP\n",
    "**Pause to commit your changes to your Git repository! (1 points)**\n",
    "\n",
    "Take a moment to save your notebook, commit the changes to your Git repository using the commit message \"**Committing Part 2**\", no need to push the changes to GitHub yet, but you can if you want.\n",
    "\n",
    "---\n",
    "If you like, you can upload this file to D2L for a record. Nevertheless, **we will grade the copy on GitHub**."
   ]
  },
  {
   "cell_type": "markdown",
   "metadata": {},
   "source": [
    "---\n",
    "---\n",
    "## Post-assignment Survey\n",
    "Please fill out the post-assignment survey [**here**](https://forms.office.com/r/0DRDevWLJT)."
   ]
  },
  {
   "cell_type": "markdown",
   "metadata": {},
   "source": [
    "&#169; Copyright 2024,  Department of Computational Mathematics, Science and Engineering at Michigan State University"
   ]
  }
 ],
 "metadata": {
  "kernelspec": {
   "display_name": "Python 3 (ipykernel)",
   "language": "python",
   "name": "python3"
  },
  "language_info": {
   "codemirror_mode": {
    "name": "ipython",
    "version": 3
   },
   "file_extension": ".py",
   "mimetype": "text/x-python",
   "name": "python",
   "nbconvert_exporter": "python",
   "pygments_lexer": "ipython3",
   "version": "3.12.4"
  }
 },
 "nbformat": 4,
 "nbformat_minor": 4
}
