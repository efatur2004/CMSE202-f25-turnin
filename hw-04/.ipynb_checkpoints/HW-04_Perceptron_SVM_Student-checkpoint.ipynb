{
 "cells": [
  {
   "cell_type": "markdown",
   "id": "37abd0c1-f3bc-4c91-80b2-3b14f385ef97",
   "metadata": {},
   "source": [
    "# Homework 4\n",
    "# Perceptron, SVM, and PCA"
   ]
  },
  {
   "cell_type": "markdown",
   "id": "ed41a524-ade8-4277-bffc-7547379f9d22",
   "metadata": {},
   "source": [
    "# <p style=\"text-align: right;\"> &#9989; Evan Fatur</p>\n",
    "# <p style=\"text-align: right;\"> &#9989; _efatur2004_</p>"
   ]
  },
  {
   "cell_type": "markdown",
   "id": "665e13b3-c564-4b25-9e3f-8bef7e3cd6e3",
   "metadata": {},
   "source": [
    "# Goal for this homework assignment\n",
    "We have worked some basics on perceptron, SVM, and PCA in the pre-class and in-class assignments. In this homework assignment, we will:\n",
    "\n",
    "* Continue to use git as the version control tool\n",
    "* Work on unfamiliar data\n",
    "* Use perceptron to classify data \n",
    "* Use SVM to classify data\n",
    "* Use principal component analysis to facilitate classification\n",
    "\n",
    "\n",
    "**This assignment is due by 11:59 pm on Friday, April 25th. Note that ONLY the copy on GITHUB will be graded.**  **There are 60 standard points possible in this assignment including points for Git commits/pushes. The distribution of points can be found in the section headers**."
   ]
  },
  {
   "cell_type": "markdown",
   "id": "199515ba-e709-40e2-a189-5da69a6f1699",
   "metadata": {},
   "source": [
    "---\n",
    "# Part 1: Git repository (6 points)\n",
    "\n",
    "You're going to add this assignment to the `cmse202-s25-turnin` repository you previously created. The history of progress on the assignment will be tracked via git commitments. \n",
    "\n",
    "**&#9989; Do the following**:\n",
    "\n",
    "1. Navigate to your `cmse202-s25-turnin` **local** repository and create a new directory called `hw-04`\n",
    "\n",
    "2. Move this notebook into that **new directory** in your repository. \n",
    "\n",
    "5. Double check to make sure your file is at the correct directory.\n",
    "\n",
    "6. Once you're certain that file and directory are correct, add this notebook to your repository, then make a commit and push it to GitHub. You may need to use `git push origin hw04` to push your file to GitHub.\n",
    "\n",
    "Finally, &#9989; **Do this**: Before you move on, put the command that your instructor should run to clone your repository in the markdown cell below. **Points for this part will be given for correctly setting up branch, etc., above, and for doing git commits/pushes mentioned throughout the assignment.**"
   ]
  },
  {
   "cell_type": "markdown",
   "id": "329e549e-214b-4858-930f-e2b7c9015580",
   "metadata": {},
   "source": [
    "<font size=6 color=\"#009600\">&#9998;</font> git clone https://github.com/efatur2004/CMSE202-f25-turnin.git"
   ]
  },
  {
   "cell_type": "markdown",
   "id": "45e93e6e-2297-490f-b1c8-a87bbd9d4814",
   "metadata": {},
   "source": [
    "**Important**: Double check you've added your Professor and your TA as collaborators to your \"turnin\" repository (you should have done this in the previous homework assignment).\n",
    "\n",
    "**Also important**: Make sure that the version of this notebook that you are working on is the same one that you just added to your repository! If you are working on a different copy of the notebook, **none of your changes will be tracked**!\n",
    "\n",
    "If everything went as intended, the file should now show up on your GitHub account in the \"`cmse202-s25-turnin`\" repository inside the `hw-04` directory that you just created.\n",
    "\n",
    "Periodically, **you'll be asked to commit your changes to the repository and push them to the remote GitHub location**. Of course, you can always commit your changes more often than that, if you wish.  It can be good to get into a habit of committing your changes any time you make a significant modification, or when you stop working on the problems for a bit."
   ]
  },
  {
   "cell_type": "markdown",
   "id": "40b2cd6e-5eac-4817-afad-c1d8ab86214b",
   "metadata": {},
   "source": [
    "---\n",
    "# Part 2: Deal with unfamiliar data (35 points)\n",
    "\n",
    "## Warm up with perceptron for binary classification\n",
    "## 2.1 Load up the dataset\n",
    "\n",
    "This data is obtained from Kaggle/diabetes. It contains multiple measured values and a label for whether the patient is diagnosed as diabetic. \n",
    "\n",
    "* Use commands to dowdload the dataset from `https://raw.githubusercontent.com/huichiayu/cmse202-s25-supllemental_data/refs/heads/main/HW04/diabetes_prediction_dataset.csv`\n",
    "* Use Pandas to load in the data and briefly examine it.\n",
    "* Succeed data load-up gets **2 pt**. "
   ]
  },
  {
   "cell_type": "code",
   "execution_count": 52,
   "id": "c8dde6c3-799e-480b-ac67-a8e0d2716b7a",
   "metadata": {},
   "outputs": [
    {
     "name": "stdout",
     "output_type": "stream",
     "text": [
      "100000\n",
      "Index(['gender', 'age', 'hypertension', 'heart_disease', 'smoking_history',\n",
      "       'bmi', 'HbA1c_level', 'blood_glucose_level', 'diabetes'],\n",
      "      dtype='object')\n"
     ]
    }
   ],
   "source": [
    "# put your code here\n",
    "import pandas as pd\n",
    "\n",
    "url = \"https://raw.githubusercontent.com/huichiayu/cmse202-s25-supllemental_data/refs/heads/main/HW04/diabetes_prediction_dataset.csv\"\n",
    "\n",
    "data = pd.read_csv(url)\n",
    "\n",
    "num_patients = data.shape[0]\n",
    "\n",
    "features = data.columns\n",
    "\n",
    "print(f\"{num_patients}\")\n",
    "print(f\"{features}\")"
   ]
  },
  {
   "cell_type": "markdown",
   "id": "2ac61eaf-8d5a-4889-8c9a-624aeefc511d",
   "metadata": {},
   "source": [
    "How many patients are in this dataset? What are features of the patients?"
   ]
  },
  {
   "cell_type": "markdown",
   "id": "bc156a61-260e-401d-a92d-d80a0016be0b",
   "metadata": {},
   "source": [
    "<font size=6 color=\"#009600\">&#9998;</font> There are 100000 patients in the dataset and the features are:['gender', 'age', 'hypertension', 'heart_disease', 'smoking_history',\r\n",
    "       'bmi', 'HbA1c_level', 'blood_glucose_level', 'diabetes']"
   ]
  },
  {
   "cell_type": "markdown",
   "id": "82b0e656-57ad-4757-b1c5-fa51c9aef9f9",
   "metadata": {},
   "source": [
    "### Use your perceptron class built in Day18 and Day19 assignments to classify whether patients are diabetic.\n",
    "\n",
    "* You should see that there are some features that are non-numerics.\n",
    "* The first one is `gender`. Find the types of classes and convert them to numerics in your dataframe.\n",
    "* The second one is `smoking_history`, convert those string labels to numerics.\n",
    "* Note that since perceptron is a binary classifier, which only determines which side of the dividing line the data points reside, we should also convert the labels to `+1` and `-1`.\n",
    "* Completing data conversion gets **5 pt**."
   ]
  },
  {
   "cell_type": "code",
   "execution_count": 54,
   "id": "4af4a995-58a7-4478-9e3e-b805ab21779f",
   "metadata": {},
   "outputs": [
    {
     "name": "stdout",
     "output_type": "stream",
     "text": [
      "Processed Data:\n",
      "   gender   age  hypertension  heart_disease  smoking_history    bmi  \\\n",
      "0     1.0  80.0             0              1              0.0  25.19   \n",
      "1     1.0  54.0             0              0              3.0  27.32   \n",
      "2     0.0  28.0             0              0              0.0  27.32   \n",
      "3     1.0  36.0             0              0              1.0  23.45   \n",
      "4     0.0  76.0             1              1              1.0  20.14   \n",
      "\n",
      "   HbA1c_level  blood_glucose_level  diabetes  \n",
      "0          6.6                  140        -1  \n",
      "1          6.6                   80        -1  \n",
      "2          5.7                  158        -1  \n",
      "3          5.0                  155        -1  \n",
      "4          4.8                  155        -1  \n"
     ]
    }
   ],
   "source": [
    "import numpy as np\n",
    "\n",
    "data['gender'] = data['gender'].map({\"Female\": 1, \"Male\": 0})\n",
    "\n",
    "data['smoking_history'] = data['smoking_history'].map({'never': 0, 'current': 1, 'former': 2, 'No Info': 3})\n",
    "\n",
    "data['diabetes'] = data['diabetes'].map({1: +1, 0: -1})\n",
    "\n",
    "print(\"Processed Data:\")\n",
    "print(data.head())\n",
    "\n",
    "labeled_data = data.to_numpy()"
   ]
  },
  {
   "cell_type": "markdown",
   "id": "88d2245b-3a9e-4b17-a5e3-b2d8365034db",
   "metadata": {},
   "source": [
    "### Now all feature varilables are numerics.\n",
    "\n",
    "### &#128721; STOP (1 Point)\n",
    "**Pause, save and commit your changes to your Git repository!**\n",
    "\n",
    "Take a moment to save your notebook, commit the changes to your Git repository with a meaningful commit message.\n",
    "\n",
    "\n",
    "\n",
    "---\n",
    "\n",
    "## 2.2 Binary perceptron classifier\n",
    "\n",
    "Copy your perceptron class to the cell below. \n",
    "\n",
    "* DO NOT use the one from statsmodel. We want to test the perceptron you built.\n",
    "* Note that your predict method should output `+1` or `-1` for positive or negative values, respectively.\n",
    "* A functional perceptron classifier gets **4 pt**."
   ]
  },
  {
   "cell_type": "code",
   "execution_count": null,
   "id": "22f7672c-5fc3-4c4f-8d06-ec88508c81e9",
   "metadata": {},
   "outputs": [],
   "source": [
    "# copy your perceptron class to his cell\n",
    "\n",
    "class Perceptron:\n",
    "    def __init__(self, learning_rate=0.001, n_iters=5):\n",
    "        self.lr = learning_rate\n",
    "        self.n_iters = n_iters\n",
    "        self.activation_func = self._sign\n",
    "        self.weights = None\n",
    "        self.bias = None\n",
    "\n",
    "    def _sign(self, x):\n",
    "        return np.where(x >= 0, 1, -1)\n",
    "\n",
    "    def fit(self, X, y):\n",
    "        n_samples, n_features = X.shape\n",
    "        self.weights = np.zeros(n_features)\n",
    "        self.bias = 0\n",
    "\n",
    "        for _ in range(self.n_iters):\n",
    "            for idx, x_i in enumerate(X):\n",
    "                linear_output = np.dot(x_i, self.weights) + self.bias\n",
    "                y_predicted = self.activation_func(linear_output)\n",
    "\n",
    "                update = self.lr * (y[idx] - y_predicted)\n",
    "                self.weights += update * x_i\n",
    "                self.bias += update\n",
    "\n",
    "    def predict(self, X):\n",
    "        linear_output = np.dot(X, self.weights) + self.bias\n",
    "        return self.activation_func(linear_output)\n"
   ]
  },
  {
   "cell_type": "markdown",
   "id": "c38cf279-13af-4402-94c4-2c418d3d97a5",
   "metadata": {},
   "source": [
    "* Split data to 70-30 train-test sets **1 pt**.\n",
    "* Train your perceptron.\n",
    "* Show the accuracy of your pereptron **2 pt**."
   ]
  },
  {
   "cell_type": "code",
   "execution_count": null,
   "id": "7986537a-e054-4286-91a4-9ba639e3c53d",
   "metadata": {},
   "outputs": [],
   "source": [
    "# put your code here\n",
    "p = Perceptron(learning_rate=0.001, n_iters=10)\n",
    "p.fit(X_train, y_train)\n",
    "\n",
    "y_pred = p.predict(X_test)\n",
    "\n",
    "accuracy = np.mean(y_pred == y_test)\n",
    "print(f\"Accuracy: {accuracy * 100:.2f}%\")"
   ]
  },
  {
   "cell_type": "markdown",
   "id": "22521abe-9552-41ec-8512-6995a7245ed7",
   "metadata": {},
   "source": [
    "* Use test set to evaulate the accuracy of your perceptron. What is your accuracy? (**2 pt**)"
   ]
  },
  {
   "cell_type": "code",
   "execution_count": null,
   "id": "3f6dd4c5-7bc1-4e9b-83e4-0417543b52d3",
   "metadata": {},
   "outputs": [],
   "source": [
    "# put your code here\n",
    "from sklearn.model_selection import train_test_split\n",
    "\n",
    "url = \"https://raw.githubusercontent.com/huichiayu/cmse202-s25-supllemental_data/refs/heads/main/HW04/diabetes_prediction_dataset.csv\"\n",
    "data = pd.read_csv(url)\n",
    "\n",
    "data['gender'] = data['gender'].map({\"Female\": 1, \"Male\": 0})\n",
    "data['smoking_history'] = data['smoking_history'].map({'never': 0, 'current': 1, 'former': 2, 'No Info': 3})\n",
    "data['diabetes'] = data['diabetes'].map({1: +1, 0: -1})\n",
    "\n",
    "X = data.iloc[:, :-1].values \n",
    "X = (X - X.mean(axis=0)) / X.std(axis=0)  \n",
    "y = data.iloc[:, -1].values \n",
    "\n",
    "X_train, X_test, y_train, y_test = train_test_split(X, y, test_size=0.3, random_state=42)\n",
    "\n",
    "class Perceptron:\n",
    "    def __init__(self, learning_rate=0.01, n_iters=1000):\n",
    "        self.lr = learning_rate\n",
    "        self.n_iters = n_iters\n",
    "        self.activation_func = self._sign\n",
    "        self.weights = None\n",
    "        self.bias = None\n",
    "\n",
    "    def _sign(self, x):\n",
    "        return np.where(x >= 0, 1, -1)\n",
    "\n",
    "    def fit(self, X, y):\n",
    "        n_samples, n_features = X.shape\n",
    "        self.weights = np.zeros(n_features)\n",
    "        self.bias = 0\n",
    "\n",
    "        for _ in range(self.n_iters):\n",
    "            for idx, x_i in enumerate(X):\n",
    "                linear_output = np.dot(x_i, self.weights) + self.bias\n",
    "                y_predicted = self.activation_func(linear_output)\n",
    "\n",
    "                update = self.lr * (y[idx] - y_predicted)\n",
    "                self.weights += update * x_i\n",
    "                self.bias += update\n",
    "\n",
    "    def predict(self, X):\n",
    "        linear_output = np.dot(X, self.weights) + self.bias\n",
    "        return self.activation_func(linear_output)\n",
    "\n",
    "p = Perceptron(learning_rate=0.001, n_iters=10)\n",
    "p.fit(X_train, y_train)\n",
    "\n",
    "y_pred = p.predict(X_test)\n",
    "\n",
    "accuracy = np.mean(y_pred == y_test)\n",
    "print(f\"Accuracy: {accuracy * 100:.2f}%\")\n"
   ]
  },
  {
   "cell_type": "markdown",
   "id": "bf59cd13-1358-48ad-a11c-2371277e0b55",
   "metadata": {},
   "source": [
    "* There may be some ways to increase the accruacy, such as increasing the number of train iterations or adjust learning rate. Give a try to train a perceptron you can best get. Record the values of parameters and the optimal accuracy. (**3 pt**)\n"
   ]
  },
  {
   "cell_type": "code",
   "execution_count": null,
   "id": "3498a824-d111-451e-9119-6f85964bca45",
   "metadata": {},
   "outputs": [],
   "source": [
    "# put your code here\n",
    "url = \"https://raw.githubusercontent.com/huichiayu/cmse202-s25-supllemental_data/refs/heads/main/HW04/diabetes_prediction_dataset.csv\"\n",
    "data = pd.read_csv(url)\n",
    "\n",
    "data['gender'] = data['gender'].map({\"Female\": 1, \"Male\": 0})\n",
    "data['smoking_history'] = data['smoking_history'].map({'never': 0, 'current': 1, 'former': 2, 'No Info': 3})\n",
    "data['diabetes'] = data['diabetes'].map({1: +1, 0: -1})\n",
    "\n",
    "X = data.iloc[:, :-1].values \n",
    "X = (X - X.mean(axis=0)) / X.std(axis=0)\n",
    "y = data.iloc[:, -1].values\n",
    "\n",
    "X_train, X_test, y_train, y_test = train_test_split(X, y, test_size=0.3, random_state=42)\n",
    "\n",
    "class Perceptron:\n",
    "    def __init__(self, learning_rate=0.01, n_iters=1000):\n",
    "        self.lr = learning_rate\n",
    "        self.n_iters = n_iters\n",
    "        self.activation_func = self._sign\n",
    "        self.weights = None\n",
    "        self.bias = None\n",
    "\n",
    "    def _sign(self, x):\n",
    "        return np.where(x >= 0, 1, -1)\n",
    "\n",
    "    def fit(self, X, y):\n",
    "        n_samples, n_features = X.shape\n",
    "        self.weights = np.zeros(n_features)\n",
    "        self.bias = 0\n",
    "\n",
    "        for _ in range(self.n_iters):\n",
    "            for idx, x_i in enumerate(X):\n",
    "                linear_output = np.dot(x_i, self.weights) + self.bias\n",
    "                y_predicted = self.activation_func(linear_output)\n",
    "\n",
    "                update = self.lr * (y[idx] - y_predicted)\n",
    "                self.weights += update * x_i\n",
    "                self.bias += update\n",
    "\n",
    "    def predict(self, X):\n",
    "        linear_output = np.dot(X, self.weights) + self.bias\n",
    "        return self.activation_func(linear_output)\n",
    "\n",
    "def tune_perceptron(X_train, y_train, X_test, y_test, learning_rates, n_iter_values):\n",
    "    best_accuracy = 0\n",
    "    best_params = {\"learning_rate\": None, \"n_iters\": None}\n",
    "\n",
    "    for lr in learning_rates:\n",
    "        for n_iters in n_iter_values:\n",
    "            p = Perceptron(learning_rate=lr, n_iters=n_iters)\n",
    "            p.fit(X_train, y_train)\n",
    "\n",
    "            y_pred = p.predict(X_test)\n",
    "\n",
    "            accuracy = np.mean(y_pred == y_test)\n",
    "            print(f\"Learning Rate: {lr}, Iterations: {n_iters}, Accuracy: {accuracy * 100:.2f}%\")\n",
    "\n",
    "            if accuracy > best_accuracy:\n",
    "                best_accuracy = accuracy\n",
    "                best_params[\"learning_rate\"] = lr\n",
    "                best_params[\"n_iters\"] = n_iters\n",
    "\n",
    "    return best_params, best_accuracy\n",
    "\n",
    "learning_rates = [0.001, 0.01, 0.1]\n",
    "n_iter_values = [10, 100, 1000]\n",
    "\n",
    "best_params, best_accuracy = tune_perceptron(X_train, y_train, X_test, y_test, learning_rates, n_iter_values)\n",
    "\n",
    "print(f\"\\nBest Accuracy: {best_accuracy * 100:.2f}%\")\n",
    "print(f\"Best Hyperparameters: Learning Rate = {best_params['learning_rate']}, Iterations = {best_params['n_iters']}\")\n",
    "\n"
   ]
  },
  {
   "cell_type": "markdown",
   "id": "41900123-9fa6-4dbb-81de-0b90edc3d9e5",
   "metadata": {},
   "source": [
    "### &#128721; STOP (1 Point)\n",
    "**Pause, save and commit your changes to your Git repository!**\n",
    "\n",
    "Take a moment to save your notebook, commit the changes to your Git repository with a meaningful commit message.\n",
    "\n",
    "---\n",
    "\n",
    "### 2.3 Next we shall test perceptron's capability of multiple-label classification.\n",
    "\n",
    "* Dowdload the dataset from `https://raw.githubusercontent.com/huichiayu/cmse202-s25-supllemental_data/refs/heads/main/HW04/Telecust1.csv`.\n",
    "* This is a customer category dataset (Kraggle/Customer Classification). Each cusmtoer has several feature variables.\n",
    "* There are five categories of customers, which are non-numerics. Thus, let's convert those string labels to numerics.\n",
    "* Successful data load-up gets **2 pt**."
   ]
  },
  {
   "cell_type": "code",
   "execution_count": 9,
   "id": "2f57127a-9d83-4408-a18d-8adfb800eb2f",
   "metadata": {},
   "outputs": [
    {
     "name": "stdout",
     "output_type": "stream",
     "text": [
      "Initial Data:\n",
      "   region  tenure  age  income  marital  address  ed  employ  retire  gender  \\\n",
      "0       2      13   44      64        1        9   4       5       0       0   \n",
      "1       3      11   33     136        1        7   5       5       0       0   \n",
      "2       3      68   52     116        1       24   1      29       0       1   \n",
      "3       2      33   33      33        0       12   2       0       0       1   \n",
      "4       2      23   30      30        1        9   1       2       0       0   \n",
      "\n",
      "   reside custcat  \n",
      "0       2       A  \n",
      "1       6       D  \n",
      "2       2       C  \n",
      "3       1       A  \n",
      "4       4       C  \n",
      "\n",
      "Processed Data:\n",
      "   region  tenure  age  income  marital  address  ed  employ  retire  gender  \\\n",
      "0       2      13   44      64        1        9   4       5       0       0   \n",
      "1       3      11   33     136        1        7   5       5       0       0   \n",
      "2       3      68   52     116        1       24   1      29       0       1   \n",
      "3       2      33   33      33        0       12   2       0       0       1   \n",
      "4       2      23   30      30        1        9   1       2       0       0   \n",
      "\n",
      "   reside  custcat  \n",
      "0       2        0  \n",
      "1       6        1  \n",
      "2       2        2  \n",
      "3       1        0  \n",
      "4       4        2  \n",
      "\n",
      "Final Processed Data:\n",
      "   region  tenure  age  income  marital  address  ed  employ  retire  gender  \\\n",
      "0       1      13   44      64        1        9   3       5       0     NaN   \n",
      "1       2      11   33     136        1        7   4       5       0     NaN   \n",
      "2       2      68   52     116        1       24   0      29       0     NaN   \n",
      "3       1      33   33      33        0       12   1       0       0     NaN   \n",
      "4       1      23   30      30        1        9   0       2       0     NaN   \n",
      "\n",
      "   reside  custcat  \n",
      "0       1        0  \n",
      "1       5        1  \n",
      "2       1        2  \n",
      "3       0        0  \n",
      "4       3        2  \n"
     ]
    }
   ],
   "source": [
    "# Download and load the dataset. Convert non-numerical labels to numerics.\n",
    "# put your code here\n",
    "import pandas as pd\n",
    "\n",
    "url = \"https://raw.githubusercontent.com/huichiayu/cmse202-s25-supllemental_data/refs/heads/main/HW04/Telecust1.csv\"\n",
    "data = pd.read_csv(url)\n",
    "\n",
    "print(\"Initial Data:\")\n",
    "print(data.head())\n",
    "\n",
    "category_mapping = {category: idx for idx, category in enumerate(data['custcat'].unique())}\n",
    "data['custcat'] = data['custcat'].map(category_mapping)\n",
    "\n",
    "print(\"\\nProcessed Data:\")\n",
    "print(data.head())\n",
    "\n",
    "data['region'] = data['region'].astype('category').cat.codes\n",
    "data['marital'] = data['marital'].astype('category').cat.codes\n",
    "data['address'] = data['address'].astype('category').cat.codes\n",
    "data['ed'] = data['ed'].astype('category').cat.codes\n",
    "data['employ'] = data['employ'].astype('category').cat.codes\n",
    "data['retire'] = data['retire'].astype('category').cat.codes\n",
    "data['gender'] = data['gender'].map({\"Female\": 1, \"Male\": 0})\n",
    "data['reside'] = data['reside'].astype('category').cat.codes\n",
    "\n",
    "print(\"\\nFinal Processed Data:\")\n",
    "print(data.head())\n",
    "\n"
   ]
  },
  {
   "cell_type": "markdown",
   "id": "ffcab03b-57fb-4268-81dc-e72281bfceb1",
   "metadata": {},
   "source": [
    "---\n",
    "### 2.4 Multi-label perceptron classification\n",
    "\n",
    "* As we know, perceptron is a binary classifier. For multiple-label classification, we can use One-vs-Rest (OvR) Strategy.\n",
    "* In this case, let's train five individual perceptrons. \n",
    "* For each classifier, it treats the current class as \"positive\" and all others as \"negative.\"\n",
    "* When classifying a new sample, each classifier gives a \"score,\" and the class with the highest score is chosen.\n",
    "\n",
    "Copy your perceptron to the code cell below. We need to add a score method, which outputs dot of weights and features, as opposed to the previous binary predict method. The score method should output a signed floating score value, not `+1` or `-1`. This can be done by removing the binary segmenting, i.e., directly outputing the dot value.\n",
    "\n",
    "* Functioning score() method gets **2 pt**."
   ]
  },
  {
   "cell_type": "code",
   "execution_count": 23,
   "id": "f7996b89-84fb-4272-9c30-c5293a97455b",
   "metadata": {},
   "outputs": [
    {
     "name": "stdout",
     "output_type": "stream",
     "text": [
      "Accuracy: 0.2167\n"
     ]
    }
   ],
   "source": [
    "# put your modified perceptron class here\n",
    "import numpy as np\n",
    "import pandas as pd\n",
    "from sklearn.model_selection import train_test_split\n",
    "\n",
    "url = \"https://raw.githubusercontent.com/huichiayu/cmse202-s25-supllemental_data/refs/heads/main/HW04/Telecust1.csv\"\n",
    "data = pd.read_csv(url)\n",
    "\n",
    "data['region'] = data['region'].astype('category').cat.codes\n",
    "data['marital'] = data['marital'].astype('category').cat.codes\n",
    "data['address'] = data['address'].astype('category').cat.codes\n",
    "data['ed'] = data['ed'].astype('category').cat.codes\n",
    "data['employ'] = data['employ'].astype('category').cat.codes\n",
    "data['retire'] = data['retire'].astype('category').cat.codes\n",
    "data['gender'] = data['gender'].astype('category').cat.codes\n",
    "data['reside'] = data['reside'].astype('category').cat.codes\n",
    "\n",
    "X = data.drop(columns=['custcat']) \n",
    "y = data['custcat'].values \n",
    "\n",
    "y = pd.Categorical(y).codes \n",
    "\n",
    "X_train, X_test, y_train, y_test = train_test_split(X, y, test_size=0.3, random_state=42)\n",
    "\n",
    "class Perceptron:\n",
    "    def __init__(self, learning_rate=0.01, max_iter=1000):\n",
    "        self.learning_rate = learning_rate\n",
    "        self.max_iter = max_iter\n",
    "        self.weights = None\n",
    "        self.bias = None\n",
    "\n",
    "    def fit(self, X, y):\n",
    "        X = np.array(X) \n",
    "        self.weights = np.zeros(X.shape[1])\n",
    "        self.bias = 0\n",
    "\n",
    "        for _ in range(self.max_iter):\n",
    "            for i in range(X.shape[0]):\n",
    "                score = np.dot(X[i], self.weights) + self.bias\n",
    "                prediction = 1 if score > 0 else -1\n",
    "                if prediction != y[i]:\n",
    "                    self.weights += y[i] * X[i]\n",
    "                    self.bias += y[i]\n",
    "\n",
    "    def predict(self, X):\n",
    "        score = np.dot(X, self.weights) + self.bias\n",
    "        return np.where(score > 0, 1, -1)\n",
    "\n",
    "    def score(self, X):\n",
    "        return np.dot(X, self.weights) + self.bias\n",
    "\n",
    "classifier = Perceptron(learning_rate=0.01, max_iter=1000)\n",
    "\n",
    "classifier.fit(X_train, y_train)\n",
    "\n",
    "y_pred = classifier.predict(X_test)\n",
    "accuracy = np.mean(y_pred == y_test)\n",
    "print(f\"Accuracy: {accuracy:.4f}\")\n"
   ]
  },
  {
   "cell_type": "markdown",
   "id": "395e1e42-e58d-49c5-a7ce-bdbb9f8e3d50",
   "metadata": {},
   "source": [
    "* Now let's do a train-test split of the data with a test_size = 0.3.\n",
    "* Since we are training 5 perceptrons, we should have have 5 class label sets. For instance, in the label set for category A, the label value will be `+1` if it's type A and otherwise `-1`.\n",
    "* Setting label sets gets **4 pt**."
   ]
  },
  {
   "cell_type": "code",
   "execution_count": 27,
   "id": "e59a1422-8984-49b8-889e-e34c6172e8f6",
   "metadata": {},
   "outputs": [
    {
     "name": "stdout",
     "output_type": "stream",
     "text": [
      "One vs Rest Accuracy: 0.2800\n"
     ]
    }
   ],
   "source": [
    "# put your code here\n",
    "import numpy as np\n",
    "import pandas as pd\n",
    "from sklearn.model_selection import train_test_split\n",
    "\n",
    "url = \"https://raw.githubusercontent.com/huichiayu/cmse202-s25-supllemental_data/refs/heads/main/HW04/Telecust1.csv\"\n",
    "data = pd.read_csv(url)\n",
    "\n",
    "data['region'] = data['region'].astype('category').cat.codes\n",
    "data['marital'] = data['marital'].astype('category').cat.codes\n",
    "data['address'] = data['address'].astype('category').cat.codes\n",
    "data['ed'] = data['ed'].astype('category').cat.codes\n",
    "data['employ'] = data['employ'].astype('category').cat.codes\n",
    "data['retire'] = data['retire'].astype('category').cat.codes\n",
    "data['gender'] = data['gender'].astype('category').cat.codes\n",
    "data['reside'] = data['reside'].astype('category').cat.codes\n",
    "\n",
    "X = data.drop(columns=['custcat']) \n",
    "y = data['custcat'].values \n",
    "\n",
    "y = pd.Categorical(y).codes\n",
    "\n",
    "X_train, X_test, y_train, y_test = train_test_split(X, y, test_size=0.3, random_state=42)\n",
    "\n",
    "class Perceptron:\n",
    "    def __init__(self, learning_rate=0.01, max_iter=1000):\n",
    "        self.learning_rate = learning_rate\n",
    "        self.max_iter = max_iter\n",
    "        self.weights = None\n",
    "        self.bias = None\n",
    "\n",
    "    def fit(self, X, y):\n",
    "        X = np.array(X) \n",
    "        self.weights = np.zeros(X.shape[1])\n",
    "        self.bias = 0\n",
    "\n",
    "        for _ in range(self.max_iter):\n",
    "            for i in range(X.shape[0]):\n",
    "                score = np.dot(X[i], self.weights) + self.bias\n",
    "                prediction = 1 if score > 0 else -1\n",
    "                if prediction != y[i]:\n",
    "                    self.weights += y[i] * X[i]\n",
    "                    self.bias += y[i]\n",
    "\n",
    "    def predict(self, X):\n",
    "        score = np.dot(X, self.weights) + self.bias\n",
    "        return np.where(score > 0, 1, -1)\n",
    "\n",
    "    def score(self, X):\n",
    "        return np.dot(X, self.weights) + self.bias\n",
    "\n",
    "class_label_sets = []\n",
    "for i in range(5):\n",
    "    y_train_binary = np.where(y_train == i, 1, -1)\n",
    "    class_label_sets.append(y_train_binary)\n",
    "\n",
    "classifiers = []\n",
    "for i in range(5):\n",
    "    classifier = Perceptron(learning_rate=0.01, max_iter=1000)\n",
    "    classifier.fit(X_train, class_label_sets[i])\n",
    "    classifiers.append(classifier)\n",
    "\n",
    "y_pred_all = []\n",
    "for classifier in classifiers:\n",
    "    y_pred_all.append(classifier.predict(X_test))\n",
    "\n",
    "y_pred_final = np.argmax(np.array(y_pred_all), axis=0)\n",
    "\n",
    "accuracy = np.mean(y_pred_final == y_test)\n",
    "print(f\"One vs Rest Accuracy: {accuracy:.4f}\")\n"
   ]
  },
  {
   "cell_type": "markdown",
   "id": "5245187a-3ed6-4cc4-a844-7fd0493707c9",
   "metadata": {},
   "source": [
    "* Use training set and the 5 training label sets to train your 5 perceptrons. Report the accuracy of those five training.\n",
    "* Efficiently train the five perceptrons using nest loop gets **5 pt**.\n"
   ]
  },
  {
   "cell_type": "code",
   "execution_count": 29,
   "id": "be107995-7f86-48d8-b24a-d3f3ed8b9e62",
   "metadata": {},
   "outputs": [
    {
     "name": "stdout",
     "output_type": "stream",
     "text": [
      "Accuracy of Perceptron for class 0: 0.7600\n",
      "Accuracy of Perceptron for class 1: 0.3457\n",
      "Accuracy of Perceptron for class 2: 0.7171\n",
      "Accuracy of Perceptron for class 3: 0.7214\n",
      "Accuracy of Perceptron for class 4: 1.0000\n"
     ]
    }
   ],
   "source": [
    "# put your code here\n",
    "import numpy as np\n",
    "import pandas as pd\n",
    "from sklearn.model_selection import train_test_split\n",
    "\n",
    "url = \"https://raw.githubusercontent.com/huichiayu/cmse202-s25-supllemental_data/refs/heads/main/HW04/Telecust1.csv\"\n",
    "data = pd.read_csv(url)\n",
    "\n",
    "data['region'] = data['region'].astype('category').cat.codes\n",
    "data['marital'] = data['marital'].astype('category').cat.codes\n",
    "data['address'] = data['address'].astype('category').cat.codes\n",
    "data['ed'] = data['ed'].astype('category').cat.codes\n",
    "data['employ'] = data['employ'].astype('category').cat.codes\n",
    "data['retire'] = data['retire'].astype('category').cat.codes\n",
    "data['gender'] = data['gender'].astype('category').cat.codes\n",
    "data['reside'] = data['reside'].astype('category').cat.codes\n",
    "\n",
    "X = data.drop(columns=['custcat']) \n",
    "y = data['custcat'].values\n",
    "\n",
    "y = pd.Categorical(y).codes\n",
    "\n",
    "X_train, X_test, y_train, y_test = train_test_split(X, y, test_size=0.3, random_state=42)\n",
    "\n",
    "class Perceptron:\n",
    "    def __init__(self, learning_rate=0.01, max_iter=1000):\n",
    "        self.learning_rate = learning_rate\n",
    "        self.max_iter = max_iter\n",
    "        self.weights = None\n",
    "        self.bias = None\n",
    "\n",
    "    def fit(self, X, y):\n",
    "        X = np.array(X)\n",
    "        self.weights = np.zeros(X.shape[1])\n",
    "        self.bias = 0\n",
    "\n",
    "        for _ in range(self.max_iter):\n",
    "            for i in range(X.shape[0]):\n",
    "                score = np.dot(X[i], self.weights) + self.bias\n",
    "                prediction = 1 if score > 0 else -1\n",
    "                if prediction != y[i]:\n",
    "                    self.weights += y[i] * X[i]\n",
    "                    self.bias += y[i]\n",
    "\n",
    "    def predict(self, X):\n",
    "        score = np.dot(X, self.weights) + self.bias\n",
    "        return np.where(score > 0, 1, -1)\n",
    "\n",
    "    def score(self, X):\n",
    "        return np.dot(X, self.weights) + self.bias\n",
    "\n",
    "class_label_sets = []\n",
    "for i in range(5):\n",
    "    y_train_binary = np.where(y_train == i, 1, -1) \n",
    "    class_label_sets.append(y_train_binary)\n",
    "\n",
    "classifiers = []\n",
    "\n",
    "for i in range(5):\n",
    "    classifier = Perceptron(learning_rate=0.01, max_iter=1000)\n",
    "    classifier.fit(X_train, class_label_sets[i]) \n",
    "    classifiers.append(classifier)\n",
    "\n",
    "accuracies = []\n",
    "\n",
    "for i in range(5):\n",
    "    y_pred_train = classifiers[i].predict(X_train)\n",
    "    accuracy = np.mean(y_pred_train == class_label_sets[i]) \n",
    "    accuracies.append(accuracy)\n",
    "\n",
    "for i, accuracy in enumerate(accuracies):\n",
    "    print(f\"Accuracy of Perceptron for class {i}: {accuracy:.4f}\")\n"
   ]
  },
  {
   "cell_type": "markdown",
   "id": "3e550cc5-fbc2-42a2-8713-881783f2c7f9",
   "metadata": {},
   "source": [
    "* Use the test vector to examine the accuracy.\n",
    "* For each feature set, there should be 5 output scores, each from a perceptron. The predicted label should be the label that corresponds to the highest score.\n",
    "* Report your accuracy. (**3 pt**)"
   ]
  },
  {
   "cell_type": "code",
   "execution_count": 33,
   "id": "1e549131-9459-437b-b627-bc99e0fa93cf",
   "metadata": {},
   "outputs": [
    {
     "name": "stdout",
     "output_type": "stream",
     "text": [
      "Accuracy of the One vs Rest Perceptron on the test set: 0.2733\n"
     ]
    }
   ],
   "source": [
    "# put your code here\n",
    "import numpy as np\n",
    "import pandas as pd\n",
    "from sklearn.model_selection import train_test_split\n",
    "\n",
    "url = \"https://raw.githubusercontent.com/huichiayu/cmse202-s25-supllemental_data/refs/heads/main/HW04/Telecust1.csv\"\n",
    "data = pd.read_csv(url)\n",
    "\n",
    "data['region'] = data['region'].astype('category').cat.codes\n",
    "data['marital'] = data['marital'].astype('category').cat.codes\n",
    "data['address'] = data['address'].astype('category').cat.codes\n",
    "data['ed'] = data['ed'].astype('category').cat.codes\n",
    "data['employ'] = data['employ'].astype('category').cat.codes\n",
    "data['retire'] = data['retire'].astype('category').cat.codes\n",
    "data['gender'] = data['gender'].astype('category').cat.codes\n",
    "data['reside'] = data['reside'].astype('category').cat.codes\n",
    "\n",
    "X = data.drop(columns=['custcat'])\n",
    "y = data['custcat'].values\n",
    "\n",
    "y = pd.Categorical(y).codes\n",
    "\n",
    "X_train, X_test, y_train, y_test = train_test_split(X, y, test_size=0.3, random_state=42)\n",
    "\n",
    "class Perceptron:\n",
    "    def __init__(self, learning_rate=0.01, max_iter=1000):\n",
    "        self.learning_rate = learning_rate\n",
    "        self.max_iter = max_iter\n",
    "        self.weights = None\n",
    "        self.bias = None\n",
    "\n",
    "    def fit(self, X, y):\n",
    "        X = np.array(X)\n",
    "        self.weights = np.zeros(X.shape[1])\n",
    "        self.bias = 0\n",
    "\n",
    "        for _ in range(self.max_iter):\n",
    "            for i in range(X.shape[0]):\n",
    "                score = np.dot(X[i], self.weights) + self.bias\n",
    "                prediction = 1 if score > 0 else -1\n",
    "                if prediction != y[i]:\n",
    "                    self.weights += y[i] * X[i]\n",
    "                    self.bias += y[i]\n",
    "\n",
    "    def predict(self, X):\n",
    "        score = np.dot(X, self.weights) + self.bias\n",
    "        return np.where(score > 0, 1, -1)\n",
    "\n",
    "    def score(self, X):\n",
    "        return np.dot(X, self.weights) + self.bias\n",
    "\n",
    "class_label_sets = []\n",
    "for i in range(5):\n",
    "    y_train_binary = np.where(y_train == i, 1, -1) \n",
    "    class_label_sets.append(y_train_binary)\n",
    "\n",
    "classifiers = []\n",
    "\n",
    "for i in range(5):\n",
    "    classifier = Perceptron(learning_rate=0.01, max_iter=1000)\n",
    "    classifier.fit(X_train, class_label_sets[i])\n",
    "    classifiers.append(classifier)\n",
    "\n",
    "predictions = []\n",
    "\n",
    "for i in range(5):\n",
    "    y_pred_test = classifiers[i].predict(X_test)\n",
    "    predictions.append(y_pred_test)\n",
    "\n",
    "final_predictions = []\n",
    "for i in range(len(X_test)):\n",
    "    scores = [classifiers[j].score(X_test.iloc[i]) for j in range(5)]\n",
    "    predicted_class = np.argmax(scores)\n",
    "    final_predictions.append(predicted_class)\n",
    "\n",
    "accuracy = np.mean(np.array(final_predictions) == y_test)\n",
    "\n",
    "print(f\"Accuracy of the One vs Rest Perceptron on the test set: {accuracy:.4f}\")\n"
   ]
  },
  {
   "cell_type": "markdown",
   "id": "fd31084b-0308-4fd0-b912-bf42f13ee674",
   "metadata": {},
   "source": [
    "How good is your multiple-label perceptron classification?"
   ]
  },
  {
   "cell_type": "markdown",
   "id": "c598a593-aac1-48b7-b634-f6c046f256f3",
   "metadata": {},
   "source": [
    "<font size=6 color=\"#009600\">&#9998;</font> The multiple label perception classification was only 27.33% accurate showing it didn't do a very good job at predicting the test samples."
   ]
  },
  {
   "cell_type": "markdown",
   "id": "c08b1bce-e2ce-4bd4-ae8e-9aca6d76a163",
   "metadata": {},
   "source": [
    "\n",
    "### &#128721; STOP (1 Point)\n",
    "**Pause, save and commit your changes to your Git repository!**\n",
    "\n",
    "Take a moment to save your notebook, commit the changes to your Git repository with a meaningful commit message.\n",
    "\n",
    "---\n",
    "## Part 3 SVM classifiers (19 points)\n",
    "\n",
    "### 3.1 SVM \n",
    "\n",
    "Let's re-use the customer category data. There are five caterogies with multiple feature variables.\n",
    "\n",
    "* Use sklearn library to build a SVM classifier. Since we do not know what the best parametes are, perform a GridSearch for best parameters.\n",
    "* NOTE: Because the dataset contains a large number of points, it's expected to have a long computer running time for GridSearch. Thus, let's use only the first 200 data points for GridSearch. You can start the grid search parameter like the image below. However, **NOTE** that if the kernal used cannot find a hyperplane to classify data points, the GridSearch function will stall. You need to manually remove that kernal from the parameter set and re-run GridSearch.\n",
    "  \n",
    "<img src=\"https://i.ibb.co/JWrp6c4q/Grid-Search-Param.png\" width=\"650\">\n",
    "\n",
    "\n",
    "* As in the previous section, make a 70-30 train-test split and train your SVM classifier.\n",
    "* Complete GridSearch to extract best parameters gets **5 pt**."
   ]
  },
  {
   "cell_type": "code",
   "execution_count": 40,
   "id": "eb83c8b3-cc1b-4fa6-a2f7-f627339586d8",
   "metadata": {},
   "outputs": [
    {
     "name": "stdout",
     "output_type": "stream",
     "text": [
      "Best parameters from GridSearch: {'C': 0.1, 'gamma': 'scale', 'kernel': 'linear'}\n",
      "Test accuracy: 0.43333333333333335\n"
     ]
    }
   ],
   "source": [
    "# put your code here.\n",
    "import pandas as pd\n",
    "import numpy as np\n",
    "from sklearn.model_selection import train_test_split, GridSearchCV\n",
    "from sklearn.svm import SVC\n",
    "from sklearn.preprocessing import LabelEncoder\n",
    "from sklearn.metrics import accuracy_score\n",
    "\n",
    "url = \"https://raw.githubusercontent.com/huichiayu/cmse202-s25-supllemental_data/refs/heads/main/HW04/Telecust1.csv\"\n",
    "data = pd.read_csv(url)\n",
    "\n",
    "label_encoder = LabelEncoder()\n",
    "data['region'] = label_encoder.fit_transform(data['region'])\n",
    "data['marital'] = label_encoder.fit_transform(data['marital'])\n",
    "data['address'] = label_encoder.fit_transform(data['address'])\n",
    "data['ed'] = label_encoder.fit_transform(data['ed'])\n",
    "data['employ'] = label_encoder.fit_transform(data['employ'])\n",
    "data['retire'] = label_encoder.fit_transform(data['retire'])\n",
    "data['gender'] = label_encoder.fit_transform(data['gender'])\n",
    "data['reside'] = label_encoder.fit_transform(data['reside'])\n",
    "data['custcat'] = label_encoder.fit_transform(data['custcat'])\n",
    "\n",
    "X = data.drop(columns=['custcat'])\n",
    "y = data['custcat']\n",
    "\n",
    "X = X.iloc[:200]\n",
    "y = y.iloc[:200]\n",
    "\n",
    "X_train, X_test, y_train, y_test = train_test_split(X, y, test_size=0.3, random_state=42)\n",
    "\n",
    "param_grid = {'C': [0.1, 1, 10, 100], 'kernel': ['linear', 'rbf'], 'gamma': ['scale', 'auto']}\n",
    "\n",
    "svm = SVC()\n",
    "\n",
    "grid_search = GridSearchCV(estimator=svm, param_grid=param_grid, cv=5, n_jobs=-1)\n",
    "\n",
    "grid_search.fit(X_train, y_train)\n",
    "\n",
    "best_params = grid_search.best_params_\n",
    "print(f\"Best parameters from GridSearch: {best_params}\")\n",
    "\n",
    "best_svm = grid_search.best_estimator_\n",
    "\n",
    "y_pred = best_svm.predict(X_test)\n",
    "accuracy = accuracy_score(y_test, y_pred)\n",
    "print(f\"Test accuracy: {accuracy}\")\n",
    "\n"
   ]
  },
  {
   "cell_type": "markdown",
   "id": "af730354-6eee-40f2-9a19-a20c8be0f3db",
   "metadata": {},
   "source": [
    "* Examine the accuracy of this SVC and report the accuracy. Draw a confusion matrix. **2 pt**"
   ]
  },
  {
   "cell_type": "code",
   "execution_count": 42,
   "id": "527b7f0b-97b1-474f-b0b0-09574d54a6f9",
   "metadata": {},
   "outputs": [
    {
     "data": {
      "image/png": "[encoded data removed]",
      "text/plain": [
       "<Figure size 800x600 with 2 Axes>"
      ]
     },
     "metadata": {},
     "output_type": "display_data"
    }
   ],
   "source": [
    "# put your code here\n",
    "import seaborn as sns\n",
    "import matplotlib.pyplot as plt\n",
    "from sklearn.metrics import confusion_matrix\n",
    "\n",
    "cm = confusion_matrix(y_test, y_pred)\n",
    "\n",
    "plt.figure(figsize=(8, 6))\n",
    "sns.heatmap(cm, annot=True, fmt=\"d\", cmap=\"Blues\", xticklabels=label_encoder.classes_, yticklabels=label_encoder.classes_)\n",
    "plt.xlabel('Predicted Label')\n",
    "plt.ylabel('True Label')\n",
    "plt.title('Confusion Matrix for SVM Model')\n",
    "plt.show()\n"
   ]
  },
  {
   "cell_type": "markdown",
   "id": "baf396ba-1d88-4d14-8771-210dc41fcbcf",
   "metadata": {},
   "source": [
    "Does SVM classifier work much better than your percetron?"
   ]
  },
  {
   "cell_type": "markdown",
   "id": "81488c96-0326-408f-aed9-d956ee068d65",
   "metadata": {},
   "source": [
    "<font size=6 color=\"#009600\">&#9998;</font> The SVM classifier has a 43.33% accuracy which is definitely better than the percetron at 27.33%, but both can definitely be improved."
   ]
  },
  {
   "cell_type": "markdown",
   "id": "5cf5af1a-7950-4356-bc42-29c41b31c03d",
   "metadata": {},
   "source": [
    "### &#128721; STOP (1 Point)\n",
    "**Pause, save and commit your changes to your Git repository!**\n",
    "\n",
    "Take a moment to save your notebook, commit the changes to your Git repository with a meaningful commit message.\n",
    "\n",
    "---\n",
    "### 3.2 PCA \n",
    "\n",
    "Although we only have 11 feature variables in the dataset, let's examine how much principal component analysis (PCA) can accelerate the classification. We will increase the PCA components from 1 to 11. For each case, we will perform a GridSearch and use test set to examine the accuracy. \n",
    "\n",
    "* Write a code to loop over n_components = 1 through 11. **4 pt**\n",
    "* Record the accuracy of each case and plot the profile of accuracy versus n_components. In the mean time, record the computer run times and plot the profile of time versus n_components. **2 pt**\n",
    "\n",
    "\n"
   ]
  },
  {
   "cell_type": "code",
   "execution_count": null,
   "id": "6cb7c31b-cc0f-4ce7-9156-cc1207b26186",
   "metadata": {},
   "outputs": [],
   "source": [
    "# put your code here\n",
    "\n"
   ]
  },
  {
   "cell_type": "markdown",
   "id": "79f02dd4-9ad8-416f-8324-cede07489a0a",
   "metadata": {},
   "source": [
    "Please answer the following questions. \n",
    "* How is the overall accuracy of this SVM classifier?  **1 pt**\n",
    "* If the performance is not good, what do you think the cause is? **2 pt**"
   ]
  },
  {
   "cell_type": "markdown",
   "id": "bcb5f56b-173e-4013-9ccb-cd717aaf2524",
   "metadata": {},
   "source": [
    "<font size=6 color=\"#009600\">&#9998;</font> Put your answer here"
   ]
  },
  {
   "cell_type": "markdown",
   "id": "c7ccaefe-5020-42f3-8d1b-2359bcdb535d",
   "metadata": {},
   "source": [
    "* Describe the curves of time vs n_components and accuracy vs n_components. **1 pt**\n",
    "* Explain why the curves behave as they are in the figures **2 pt**"
   ]
  },
  {
   "cell_type": "markdown",
   "id": "43066ffe-1bdb-4c50-b4dd-ecec5287fc64",
   "metadata": {},
   "source": [
    "<font size=6 color=\"#009600\">&#9998;</font> Put your answer here"
   ]
  },
  {
   "cell_type": "markdown",
   "id": "2c10fcb2-8d8b-4e2f-a9fe-5b998e646114",
   "metadata": {},
   "source": [
    "### &#128721; STOP (1 Point)\n",
    "**Pause, save and commit your FINAL changes to your Git repository!**\n",
    "\n",
    "Take a moment to save your notebook, commit the changes to your Git repository with a meaningful commit message.\n",
    "\n",
    "\n",
    "\n",
    "---\n",
    "## Assignment wrap-up\n",
    "\n",
    "\n",
    "Please fill out the form that appears when you run the code below.  **You must completely fill this out in order to receive credit for the assignment!**\n",
    "\n"
   ]
  },
  {
   "cell_type": "code",
   "execution_count": null,
   "id": "8daa2c83-4226-47d8-ad62-0a15001b3261",
   "metadata": {},
   "outputs": [],
   "source": [
    "from IPython.display import HTML\n",
    "HTML(\n",
    "\"\"\"\n",
    "<iframe \n",
    "\tsrc=\"https://forms.office.com/r/mB0YjLYvAA\" \n",
    "\twidth=\"800px\" \n",
    "\theight=\"600px\" \n",
    "\tframeborder=\"0\" \n",
    "\tmarginheight=\"0\" \n",
    "\tmarginwidth=\"0\">\n",
    "\tLoading...\n",
    "</iframe>\n",
    "\"\"\"\n",
    ")"
   ]
  },
  {
   "cell_type": "markdown",
   "id": "ba1f1ca9-1cce-4437-a38d-163b31945d70",
   "metadata": {},
   "source": [
    "## Congratulations, you're done!\n",
    "\n",
    "&#169; Copyright 2025,  Department of Computational Mathematics, Science and Engineering at Michigan State University"
   ]
  },
  {
   "cell_type": "code",
   "execution_count": null,
   "id": "e08ef267-8dfb-4e1c-86b7-d4c4d42d6bde",
   "metadata": {},
   "outputs": [],
   "source": []
  }
 ],
 "metadata": {
  "kernelspec": {
   "display_name": "Python 3 (ipykernel)",
   "language": "python",
   "name": "python3"
  },
  "language_info": {
   "codemirror_mode": {
    "name": "ipython",
    "version": 3
   },
   "file_extension": ".py",
   "mimetype": "text/x-python",
   "name": "python",
   "nbconvert_exporter": "python",
   "pygments_lexer": "ipython3",
   "version": "3.12.4"
  }
 },
 "nbformat": 4,
 "nbformat_minor": 5
}
